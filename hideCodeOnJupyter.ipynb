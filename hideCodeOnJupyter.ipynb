{
 "cells": [
  {
   "cell_type": "markdown",
   "id": "activated-cruise",
   "metadata": {},
   "source": [
    "# Hide code on JupyterNotebook / JupyterLab"
   ]
  },
  {
   "cell_type": "markdown",
   "id": "moved-devil",
   "metadata": {},
   "source": [
    "---"
   ]
  },
  {
   "cell_type": "markdown",
   "id": "unlimited-terrain",
   "metadata": {},
   "source": [
    "copy cell below and paste it on your JupyterNotebook / JupyterLab."
   ]
  },
  {
   "cell_type": "code",
   "execution_count": null,
   "id": "communist-shepherd",
   "metadata": {},
   "outputs": [],
   "source": [
    "%%HTML\n",
    "<form action=\"javascript:codeToggle()\"><input type=\"submit\" value=\"Hide Code\" id=\"codeToggleBtn\"></form>\n",
    "<script>\n",
    "var showStatus=true;\n",
    "var useDispCNs = [\".jp-CodeMirrorEditor, .jp-Editor, .jp-InputArea-editor\",\".input_area\"];\n",
    "var useVisCNs = [\".jp-InputPrompt, .jp-InputArea-prompt\",\".jp-OutputPrompt, .jp-OutputArea-prompt\",\n",
    "                         \".prompt, .input_prompt\",\".prompt, .output_prompt\"];\n",
    "var showStyle = {btnValue:[\"Show\",\"Hide\"],display:[\"none\",\"block\"],visibility:[\"hidden\",\"visible\"]}\n",
    "function codeToggle() {\n",
    " showStatus = !showStatus;\n",
    " useDispCNs.forEach(function( cn ) {document.querySelectorAll(cn).forEach(function(el) {\n",
    "   el.style.display = showStyle.display[Number(showStatus)];});});\n",
    " useVisCNs.forEach(function( cn ) {document.querySelectorAll(cn).forEach(function(el) {\n",
    "   el.style.visibility = showStyle.visibility[Number(showStatus)];});});\n",
    " document.getElementById(\"codeToggleBtn\").value = showStyle.btnValue[Number(showStatus)] + \" code\";\n",
    "} \n",
    "//codeToggle();\n",
    "window.onload = function() {codeToggle();}\n",
    "</script>"
   ]
  },
  {
   "cell_type": "markdown",
   "id": "minor-tractor",
   "metadata": {
    "tags": []
   },
   "source": [
    "---"
   ]
  },
  {
   "cell_type": "markdown",
   "id": "cutting-notebook",
   "metadata": {},
   "source": [
    "If you want hide code when you run this script on JupyterNotebook / JupyterLab, Uncomment line below.\n",
    "\n",
    "//codeToggle()"
   ]
  },
  {
   "cell_type": "markdown",
   "id": "interstate-socket",
   "metadata": {},
   "source": [
    "---"
   ]
  },
  {
   "cell_type": "markdown",
   "id": "geographic-cleaner",
   "metadata": {},
   "source": [
    "If you don't want hide code when you open a export html file, Comment line below.\n",
    "\n",
    "window.onload = function() {codeToggle();}"
   ]
  }
 ],
 "metadata": {
  "kernelspec": {
   "display_name": "Python 3",
   "language": "python",
   "name": "python3"
  },
  "language_info": {
   "codemirror_mode": {
    "name": "ipython",
    "version": 3
   },
   "file_extension": ".py",
   "mimetype": "text/x-python",
   "name": "python",
   "nbconvert_exporter": "python",
   "pygments_lexer": "ipython3",
   "version": "3.7.10"
  }
 },
 "nbformat": 4,
 "nbformat_minor": 5
}
